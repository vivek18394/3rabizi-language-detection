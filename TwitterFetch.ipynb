{
 "cells": [
  {
   "cell_type": "code",
   "execution_count": 1,
   "metadata": {},
   "outputs": [
    {
     "name": "stdout",
     "output_type": "stream",
     "text": [
      "<class 'pandas.core.frame.DataFrame'>\n",
      "Int64Index: 114 entries, 0 to 969\n",
      "Data columns (total 1 columns):\n",
      "Tweets    114 non-null object\n",
      "dtypes: object(1)\n",
      "memory usage: 6.8+ KB\n",
      "\n",
      "done\n"
     ]
    }
   ],
   "source": [
    "import tweepy\n",
    "import numpy as np\n",
    "import pandas as pd\n",
    "auth = tweepy.OAuthHandler(\"1ta9zkB9v0RtPpf1cUsHT3a1o\", \"BgmC5DIBJOXxxDActWsRLa1MzpCRjIm6r7z81uhlXtwukSPxVe\")\n",
    "auth.set_access_token(\"1023825321332637698-gz5ybrF3e4ZrWUL2OsYjGsaT7lidH7\", \"nSrtspam11ve9UG5CCqMUqn6KvNJbZsVB3zyhPftBx3K0\")\n",
    "api = tweepy.API(auth)\n",
    "df = pd.DataFrame(columns = ['Tweets'])\n",
    "                                   \n",
    "def stream():\n",
    "    i = 0\n",
    "    for tweet in tweepy.Cursor(api.search, q=['arab politics'], count=100, lang='en', tweet_mode='extended', since='2019-12-01', until='2019-12-12').items():\n",
    "        print(i, end='\\r')\n",
    "        if (not tweet.retweeted) and ('RT @' not in tweet.full_text):\n",
    "            df.loc[i, 'Tweets'] = tweet.full_text\n",
    "        i+=1\n",
    "        if i == 1000:\n",
    "            break\n",
    "        else:\n",
    "            pass \n",
    "stream()\n",
    "#print(i)\n",
    "df.info()\n",
    "#print(df)\n",
    "df.to_csv('arab_politics_tweet.txt')\n",
    "print(\"\\ndone\")"
   ]
  },
  {
   "cell_type": "code",
   "execution_count": null,
   "metadata": {},
   "outputs": [],
   "source": []
  }
 ],
 "metadata": {
  "kernelspec": {
   "display_name": "Python 3",
   "language": "python",
   "name": "python3"
  },
  "language_info": {
   "codemirror_mode": {
    "name": "ipython",
    "version": 3
   },
   "file_extension": ".py",
   "mimetype": "text/x-python",
   "name": "python",
   "nbconvert_exporter": "python",
   "pygments_lexer": "ipython3",
   "version": "3.7.4"
  }
 },
 "nbformat": 4,
 "nbformat_minor": 2
}
